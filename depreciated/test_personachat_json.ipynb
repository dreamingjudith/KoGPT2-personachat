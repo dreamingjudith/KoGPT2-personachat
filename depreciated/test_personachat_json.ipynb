{
 "metadata": {
  "language_info": {
   "codemirror_mode": {
    "name": "ipython",
    "version": 3
   },
   "file_extension": ".py",
   "mimetype": "text/x-python",
   "name": "python",
   "nbconvert_exporter": "python",
   "pygments_lexer": "ipython3",
   "version": "3.7.4-final"
  },
  "orig_nbformat": 2,
  "kernelspec": {
   "name": "python_defaultSpec_1597846006762",
   "display_name": "Python 3.7.7 64-bit ('cm': conda)"
  }
 },
 "nbformat": 4,
 "nbformat_minor": 2,
 "cells": [
  {
   "cell_type": "code",
   "execution_count": 1,
   "metadata": {},
   "outputs": [],
   "source": [
    "import json"
   ]
  },
  {
   "cell_type": "code",
   "execution_count": 5,
   "metadata": {},
   "outputs": [],
   "source": [
    "with open(\"personachat_self_original.json\") as f:\n",
    "    dataset = json.load(f)"
   ]
  },
  {
   "cell_type": "code",
   "execution_count": 6,
   "metadata": {},
   "outputs": [
    {
     "output_type": "execute_result",
     "data": {
      "text/plain": "dict"
     },
     "metadata": {},
     "execution_count": 6
    }
   ],
   "source": [
    "type(dataset)"
   ]
  },
  {
   "cell_type": "code",
   "execution_count": 7,
   "metadata": {},
   "outputs": [
    {
     "output_type": "execute_result",
     "data": {
      "text/plain": "dict_keys(['train', 'valid'])"
     },
     "metadata": {},
     "execution_count": 7
    }
   ],
   "source": [
    "dataset.keys()"
   ]
  },
  {
   "cell_type": "code",
   "execution_count": 8,
   "metadata": {},
   "outputs": [
    {
     "output_type": "execute_result",
     "data": {
      "text/plain": "list"
     },
     "metadata": {},
     "execution_count": 8
    }
   ],
   "source": [
    "type(dataset['train'])"
   ]
  },
  {
   "cell_type": "code",
   "execution_count": 9,
   "metadata": {},
   "outputs": [
    {
     "output_type": "execute_result",
     "data": {
      "text/plain": "dict"
     },
     "metadata": {},
     "execution_count": 9
    }
   ],
   "source": [
    "type(dataset['train'][0])"
   ]
  },
  {
   "cell_type": "code",
   "execution_count": 10,
   "metadata": {},
   "outputs": [
    {
     "output_type": "execute_result",
     "data": {
      "text/plain": "dict_keys(['personality', 'utterances'])"
     },
     "metadata": {},
     "execution_count": 10
    }
   ],
   "source": [
    "dataset['train'][0].keys()"
   ]
  },
  {
   "cell_type": "code",
   "execution_count": 11,
   "metadata": {},
   "outputs": [
    {
     "output_type": "execute_result",
     "data": {
      "text/plain": "['i like to remodel homes .',\n 'i like to go hunting .',\n 'i like to shoot a bow .',\n 'my favorite holiday is halloween .']"
     },
     "metadata": {},
     "execution_count": 11
    }
   ],
   "source": [
    "dataset['train'][0]['personality']"
   ]
  },
  {
   "cell_type": "code",
   "execution_count": 12,
   "metadata": {},
   "outputs": [
    {
     "output_type": "execute_result",
     "data": {
      "text/plain": "[{'candidates': ['my mom was single with 3 boys , so we never left the projects .',\n   'i try to wear all black every day . it makes me feel comfortable .',\n   'well nursing stresses you out so i wish luck with sister',\n   'yeah just want to pick up nba nfl getting old',\n   'i really like celine dion . what about you ?',\n   'no . i live near farms .',\n   \"i wish i had a daughter , i'm a boy mom . they're beautiful boys though still lucky\",\n   'yeah when i get bored i play gone with the wind my favorite movie .',\n   \"hi how are you ? i'm eating dinner with my hubby and 2 kids .\",\n   'were you married to your high school sweetheart ? i was .',\n   'that is great to hear ! are you a competitive rider ?',\n   \"hi , i'm doing ok . i'm a banker . how about you ?\",\n   \"i'm 5 years old\",\n   'hi there . how are you today ?',\n   'i totally understand how stressful that can be .',\n   'yeah sometimes you do not know what you are actually watching',\n   'mother taught me to cook ! we are looking for an exterminator .',\n   'i enjoy romantic movie . what is your favorite season ? mine is summer .',\n   'editing photos takes a lot of work .',\n   'you must be very fast . hunting is one of my favorite hobbies .'],\n  'history': [\"hi , how are you doing ? i'm getting ready to do some cheetah chasing to stay in shape .\"]},\n {'candidates': ['hello i am doing well how are you ?',\n   'll something like that . do you play games ?',\n   'does anything give you relief ? i hate taking medicine for mine .',\n   'i decorate cakes at a local bakery ! and you ?',\n   'do you eat lots of meat',\n   'i am so weird that i like to collect people and cats',\n   'how are your typing skills ?',\n   'yeah . i am headed to the gym in a bit to weight lift .',\n   'yeah you have plenty of time',\n   'metal is my favorite , but i can accept that people listen to country . haha',\n   \"that's why you desire to be controlled . let me control you person one .\",\n   'two dogs they are the best , how about you ?',\n   'you do art ? what kind of art do you do ?',\n   'i love watching baseball outdoors on sunny days .',\n   'oh i see . do you ever think about moving ? i do , it is what i want .',\n   'sure . i wish it were winter . the sun really hurts my blue eyes .',\n   'are we pretending to play tennis',\n   'i am rich and have all of my dreams fulfilled already',\n   'they tire me so , i probably sleep about 10 hrs a day because of them .',\n   'i also remodel homes when i am not out bow hunting .'],\n  'history': [\"hi , how are you doing ? i'm getting ready to do some cheetah chasing to stay in shape .\",\n   'you must be very fast . hunting is one of my favorite hobbies .',\n   'i am ! for my hobby i like to do canning or some whittling .']},\n {'candidates': ['yes they do but i say no to them lol',\n   'i have trouble getting along with family .',\n   'i live in texas , what kind of stuff do you do in toronto ?',\n   \"that's so unique ! veganism and line dancing usually don't mix !\",\n   \"no , it isn't that big . do you travel a lot\",\n   \"that's because they are real ; what do you do for work ?\",\n   'i am lazy all day lol . my mom wants me to get a job and move out',\n   'i was born on arbor day , so plant a tree in my name',\n   'okay , i should not tell you , its against the rules but my name is sarah , call me o',\n   'hello how are u tonight',\n   \"cool . . . my parents love country music that's why i hate it\",\n   'i am an accountant . what do you do ?',\n   'what do your parents do ? my dad is a mechanic .',\n   'how are you liking it ?',\n   'i really am too . great talking to you too .',\n   'cool . whats it like working there ?',\n   \"one daughter . she's pre med\",\n   \"no and all men is taller than me why can't i find a man to dance with\",\n   'i live in utah , and my family live in england , so i understand',\n   \"that's awesome . do you have a favorite season or time of year ?\"],\n  'history': [\"hi , how are you doing ? i'm getting ready to do some cheetah chasing to stay in shape .\",\n   'you must be very fast . hunting is one of my favorite hobbies .',\n   'i am ! for my hobby i like to do canning or some whittling .',\n   'i also remodel homes when i am not out bow hunting .',\n   \"that's neat . when i was in high school i placed 6th in 100m dash !\"]},\n {'candidates': ['not really , it is just a small local radio station . what about you , what do you do ?',\n   'me too ! people always say i am so organized',\n   'niagra fall is where our honeymoon will be',\n   'yes ! i know how to be by myself . you ? i do not need new friends . you ?',\n   'll . my dad is a police officer and they have a sports team too',\n   'oh you should get your license',\n   'okay you have a good day nice talking with you !',\n   'i play some ball for a living .',\n   'me too ! my asthma is really embarrassing and makes me uncomfortable around others .',\n   'netflix and good food is the best . maybe lobster , my favorite seafood . where ya from ?',\n   'oh nice . why is that ?',\n   'sounds fun ! i helped my wife with health issues , too .',\n   \"i am a night owl . i think i'll play the piano a little before bed .\",\n   'just the real ones , not a big game person',\n   \"i could be the next mrs . adam levine . please , i'll buy you 10 mangoes .\",\n   \"do you like dogs i've usually to talk\",\n   'what did she teach ? my mom stayed home with my and my 3 older siblings',\n   'neither do i , i am just a photographer , and that is already a ot of energy',\n   'no , i say i am average at 5 4 . are you vertically challenged ?',\n   'what is your favorite meat to eat ?'],\n  'history': [\"hi , how are you doing ? i'm getting ready to do some cheetah chasing to stay in shape .\",\n   'you must be very fast . hunting is one of my favorite hobbies .',\n   'i am ! for my hobby i like to do canning or some whittling .',\n   'i also remodel homes when i am not out bow hunting .',\n   \"that's neat . when i was in high school i placed 6th in 100m dash !\",\n   \"that's awesome . do you have a favorite season or time of year ?\",\n   'i do not . but i do have a favorite meat since that is all i eat exclusively .']},\n {'candidates': ['i am listening to system of a down , i wonder if your cat would like them',\n   'i absolutely agree , women are just as strong and capable .',\n   'in denmark with my grandma . what about you ?',\n   'i live in backcountry michigan . i encounter many sick , injured wildlife daily !',\n   'i am great and you',\n   'i am a big foodie , i love to bake . how about you ?',\n   'dance ! ! i win alot of mone and trifies . . what do u do four fun ?',\n   'do you do any sports ? swimming helps me keep my energy up .',\n   'they are excellent for the environment .',\n   'i am going to catch some fish and think this over . thanks dog !',\n   'i am doing well ! how about you ?',\n   'i like old cars better new cars are to expensive',\n   \"i've met bill once . he seems like a nice guy .\",\n   \"oh that is amazing . i've been trying to find someone who can help him\",\n   'i am in my early 30s , what you do for living',\n   'so , you are in college ? i took foreign language in college .',\n   'i just turned 30 the other day',\n   'what a coincidence i live up in anchorage',\n   'that would be interesting . i am going to be a forensic psychologist .',\n   'i like chicken or macaroni and cheese .'],\n  'history': [\"hi , how are you doing ? i'm getting ready to do some cheetah chasing to stay in shape .\",\n   'you must be very fast . hunting is one of my favorite hobbies .',\n   'i am ! for my hobby i like to do canning or some whittling .',\n   'i also remodel homes when i am not out bow hunting .',\n   \"that's neat . when i was in high school i placed 6th in 100m dash !\",\n   \"that's awesome . do you have a favorite season or time of year ?\",\n   'i do not . but i do have a favorite meat since that is all i eat exclusively .',\n   'what is your favorite meat to eat ?',\n   'i would have to say its prime rib . do you have any favorite foods ?']},\n {'candidates': ['that sounds nice . do you make your own ?',\n   'i had a simple lunch so that i make my supper heavy after beach .',\n   'nice i may be able to beat you my hair is bright purple',\n   'not really i am kind of an introvert',\n   'well currently i am going to the university of chicago to obtain a law degree',\n   'also , my parents came with me , because they are on a break from teaching !',\n   'oh , i am sorry . want to come play tennis with my two sisters and me ?',\n   'wow ! 2 sons . john and wayne . you play guitar good ?',\n   'what do you do all day then ?',\n   'i work from home , what about you ?',\n   'that is no good . have glasses ?',\n   'just chilling . watching netflix . so what are you reading ?',\n   'i love food too . especially fine dining .',\n   'what do you like to watch ?',\n   'i do not have to work anymore , thank goodness',\n   'no , not really . i am in kansas .',\n   'i love movies . especially disney .',\n   'no i do not . what kinds of dogs do you have',\n   \"they won't , but i'll someday . what are you hobbies ?\",\n   'i am going to watch football . what are you canning ?'],\n  'history': [\"hi , how are you doing ? i'm getting ready to do some cheetah chasing to stay in shape .\",\n   'you must be very fast . hunting is one of my favorite hobbies .',\n   'i am ! for my hobby i like to do canning or some whittling .',\n   'i also remodel homes when i am not out bow hunting .',\n   \"that's neat . when i was in high school i placed 6th in 100m dash !\",\n   \"that's awesome . do you have a favorite season or time of year ?\",\n   'i do not . but i do have a favorite meat since that is all i eat exclusively .',\n   'what is your favorite meat to eat ?',\n   'i would have to say its prime rib . do you have any favorite foods ?',\n   'i like chicken or macaroni and cheese .',\n   'do you have anything planned for today ? i think i am going to do some canning .']},\n {'candidates': ['awesome . so what do you do for a living ?',\n   'you are telling the truth lol',\n   'haha yea i love cookies . i sleep way to much to . you like music ?',\n   'that is nice to know . i travel due to being financially stable .',\n   'i am sure you can . california is full of opportunities .',\n   \"they're fun . i also wanted to be a rock star as i love the music .\",\n   'you need a hobby something you can do in small segments at night',\n   'hi , i love halloween , so what do you like to do for fun ?',\n   'is that a long movie ? few hours ? that is what i spend at the pool',\n   'tennis sounds interesting ! yes , i am ! how about you ?',\n   'very well , thank you . how are you today ?',\n   'i like a cashier at my bank . i stare at her at a distance to flirt .',\n   'yes . thank you for the chat .',\n   'that is super sweet , high school sweetheart kind of thing',\n   'hey . my favorite color is pink . how about you ?',\n   \"nice ! i don't go out much because i am busy at my accounting job .\",\n   \"oh my gosh i don't know what i'd do if i had to get a job !\",\n   'that would still be buying it online !',\n   'was okay . dog woke me up and just getting ready for a date .',\n   'if i have time outside of hunting and remodeling homes . which is not much !'],\n  'history': [\"hi , how are you doing ? i'm getting ready to do some cheetah chasing to stay in shape .\",\n   'you must be very fast . hunting is one of my favorite hobbies .',\n   'i am ! for my hobby i like to do canning or some whittling .',\n   'i also remodel homes when i am not out bow hunting .',\n   \"that's neat . when i was in high school i placed 6th in 100m dash !\",\n   \"that's awesome . do you have a favorite season or time of year ?\",\n   'i do not . but i do have a favorite meat since that is all i eat exclusively .',\n   'what is your favorite meat to eat ?',\n   'i would have to say its prime rib . do you have any favorite foods ?',\n   'i like chicken or macaroni and cheese .',\n   'do you have anything planned for today ? i think i am going to do some canning .',\n   'i am going to watch football . what are you canning ?',\n   'i think i will can some jam . do you also play footfall for fun ?']}]"
     },
     "metadata": {},
     "execution_count": 12
    }
   ],
   "source": [
    "dataset['train'][0]['utterances']"
   ]
  },
  {
   "cell_type": "code",
   "execution_count": 13,
   "metadata": {},
   "outputs": [
    {
     "output_type": "execute_result",
     "data": {
      "text/plain": "17878"
     },
     "metadata": {},
     "execution_count": 13
    }
   ],
   "source": [
    "len(dataset['train'])"
   ]
  },
  {
   "cell_type": "code",
   "execution_count": 15,
   "metadata": {},
   "outputs": [
    {
     "output_type": "execute_result",
     "data": {
      "text/plain": "{'candidates': ['my mom was single with 3 boys , so we never left the projects .',\n  'i try to wear all black every day . it makes me feel comfortable .',\n  'well nursing stresses you out so i wish luck with sister',\n  'yeah just want to pick up nba nfl getting old',\n  'i really like celine dion . what about you ?',\n  'no . i live near farms .',\n  \"i wish i had a daughter , i'm a boy mom . they're beautiful boys though still lucky\",\n  'yeah when i get bored i play gone with the wind my favorite movie .',\n  \"hi how are you ? i'm eating dinner with my hubby and 2 kids .\",\n  'were you married to your high school sweetheart ? i was .',\n  'that is great to hear ! are you a competitive rider ?',\n  \"hi , i'm doing ok . i'm a banker . how about you ?\",\n  \"i'm 5 years old\",\n  'hi there . how are you today ?',\n  'i totally understand how stressful that can be .',\n  'yeah sometimes you do not know what you are actually watching',\n  'mother taught me to cook ! we are looking for an exterminator .',\n  'i enjoy romantic movie . what is your favorite season ? mine is summer .',\n  'editing photos takes a lot of work .',\n  'you must be very fast . hunting is one of my favorite hobbies .'],\n 'history': [\"hi , how are you doing ? i'm getting ready to do some cheetah chasing to stay in shape .\"]}"
     },
     "metadata": {},
     "execution_count": 15
    }
   ],
   "source": [
    "dataset['train'][0]['utterances'][0]"
   ]
  },
  {
   "cell_type": "code",
   "execution_count": null,
   "metadata": {},
   "outputs": [],
   "source": []
  }
 ]
}